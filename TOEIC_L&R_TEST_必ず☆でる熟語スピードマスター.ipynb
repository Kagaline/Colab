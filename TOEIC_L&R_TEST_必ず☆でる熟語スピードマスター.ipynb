{
  "nbformat": 4,
  "nbformat_minor": 0,
  "metadata": {
    "colab": {
      "provenance": [],
      "gpuType": "T4",
      "private_outputs": true,
      "mount_file_id": "1FMX2ARah0KZhTr4YzxGixuT-Q5PNeH3j",
      "authorship_tag": "ABX9TyPaJYOmZNBH724kzf9Fk5Wj",
      "include_colab_link": true
    },
    "kernelspec": {
      "name": "python3",
      "display_name": "Python 3"
    },
    "language_info": {
      "name": "python"
    }
  },
  "cells": [
    {
      "cell_type": "markdown",
      "metadata": {
        "id": "view-in-github",
        "colab_type": "text"
      },
      "source": [
        "<a href=\"https://colab.research.google.com/github/Kagaline/Colab/blob/master/TOEIC_L%26R_TEST_%E5%BF%85%E3%81%9A%E2%98%86%E3%81%A7%E3%82%8B%E7%86%9F%E8%AA%9E%E3%82%B9%E3%83%94%E3%83%BC%E3%83%89%E3%83%9E%E3%82%B9%E3%82%BF%E3%83%BC.ipynb\" target=\"_parent\"><img src=\"https://colab.research.google.com/assets/colab-badge.svg\" alt=\"Open In Colab\"/></a>"
      ]
    },
    {
      "cell_type": "markdown",
      "source": [
        "# TOEIC L&R TEST 必ず☆でる熟語スピードマスター\n",
        "original 音声:https://www.jresearch.co.jp/book/b427633.html"
      ],
      "metadata": {
        "id": "lANx8sObRuH1"
      }
    },
    {
      "cell_type": "markdown",
      "source": [
        "## 音声の加工"
      ],
      "metadata": {
        "id": "6R9iC_f-bmfL"
      }
    },
    {
      "cell_type": "markdown",
      "source": [
        "### 不要な音声（導入の日本語）をカットする"
      ],
      "metadata": {
        "id": "03atlQUjRxQw"
      }
    },
    {
      "cell_type": "code",
      "source": [
        "!pip install pydub"
      ],
      "metadata": {
        "id": "Db5YQ17FOURw"
      },
      "execution_count": null,
      "outputs": []
    },
    {
      "cell_type": "code",
      "source": [
        "from pydub import AudioSegment\n",
        "\n",
        "audio = AudioSegment.from_file(\"/content/drive/MyDrive/TOEIC/idiom/001.mp3\", format=\"mp3\")\n",
        "start_time = 7000  # 開始時間（ミリ秒）\n",
        "end_time = -1  # 終了時間（ミリ秒）\n",
        "\n",
        "extracted_audio = audio[start_time:]\n",
        "\n",
        "extracted_audio.export(\"/content/drive/MyDrive/TOEIC/idiom/001-cutted.mp3\", format=\"mp3\")\n"
      ],
      "metadata": {
        "id": "W5zVJTEo9XG2"
      },
      "execution_count": null,
      "outputs": []
    },
    {
      "cell_type": "markdown",
      "source": [
        "この後\"/content/sample_data/idioms/001-cutted.mp3\"をチェックして問題なければ\"/content/sample_data/idioms/001.mp3\"と置き換える。"
      ],
      "metadata": {
        "id": "KDEctDnuSE3I"
      }
    },
    {
      "cell_type": "markdown",
      "source": [
        "### 音声データの波形を見てみる"
      ],
      "metadata": {
        "id": "pzJNKe0PCGiu"
      }
    },
    {
      "cell_type": "code",
      "source": [
        "!pip install librosa numpy"
      ],
      "metadata": {
        "id": "mpGgNmS4CL8V"
      },
      "execution_count": null,
      "outputs": []
    },
    {
      "cell_type": "code",
      "source": [
        "# librosaをインポート\n",
        "import librosa\n",
        "# numpyをインポート（配列を生成するため）\n",
        "import numpy as np\n",
        "# matplotlibをインポート（グラフ描画するため）\n",
        "import matplotlib.pyplot as plt\n",
        "\n",
        "# 音楽ファイルのパスを設定（例：\"/foldername/filename.mp3\"）\n",
        "file_name = \"/content/drive/MyDrive/TOEIC/idiom/032.mp3\"\n",
        "# loadメソッドでy=音声信号の値（audio time series）、sr=サンプリング周波数（sampling rate）を取得\n",
        "# 参考：https://librosa.org/doc/latest/generated/librosa.load.html?highlight=load#librosa.load\n",
        "y, sr = librosa.load(file_name)\n",
        "# 時間 = yのデータ数 / サンプリング周波数\n",
        "# 参考：https://note.nkmk.me/python-numpy-arange-linspace/\n",
        "time = np.arange(0,len(y)) / sr\n",
        "\n",
        "# xにtime、yにyとしてプロット\n",
        "plt.plot(time, y)\n",
        "# x軸とy軸にラベルを設定（x軸は時間、y軸は振幅）\n",
        "# 参考：https://techacademy.jp/magazine/19316\n",
        "plt.xlabel(\"Time(s)\")\n",
        "plt.ylabel(\"Sound Amplitude\")\n",
        "\n",
        "# グラフを表示\n",
        "plt.show()"
      ],
      "metadata": {
        "id": "QRp2Hkt1CJVp"
      },
      "execution_count": null,
      "outputs": []
    },
    {
      "cell_type": "markdown",
      "source": [
        "### \"Day.\"を切り取る\n"
      ],
      "metadata": {
        "id": "1dYrP38mCrhc"
      }
    },
    {
      "cell_type": "code",
      "source": [
        "from pydub import AudioSegment\n",
        "from pydub.silence import split_on_silence\n",
        "\n",
        "for current in range(1,140):\n",
        "    if current in (1, 6, 11, 16, 21, 26, 31, 36, 44, 51, 56, 64, 72, 80, 88, 98, 106, 114, 122, 130):\n",
        "        audio = AudioSegment.from_file(\"/content/drive/MyDrive/TOEIC/idiom/\"+str(current).zfill(3)+\".mp3\", format=\"mp3\")\n",
        "        start_time = 1500  # 開始時間（ミリ秒）\n",
        "\n",
        "        extracted_audio = audio[start_time:]\n",
        "\n",
        "        extracted_audio.export(\"/content/drive/MyDrive/TOEIC/idiom/\"+str(current).zfill(3)+\"-cutted.mp3\", format=\"mp3\") \n"
      ],
      "metadata": {
        "id": "nLTdQjcJCqxP"
      },
      "execution_count": null,
      "outputs": []
    },
    {
      "cell_type": "markdown",
      "source": [
        "うまくいかなかった音源は個別に対処した"
      ],
      "metadata": {
        "id": "oHo5EJCbIWAA"
      }
    },
    {
      "cell_type": "code",
      "source": [
        "from pydub import AudioSegment\n",
        "from pydub.silence import split_on_silence\n",
        "\n",
        "for current in range(1,140):\n",
        "    if current == 1:\n",
        "        audio = AudioSegment.from_file(\"/content/drive/MyDrive/TOEIC/idiom/\"+str(current).zfill(3)+\".mp3\", format=\"mp3\")\n",
        "        start_time = 3000  # 開始時間（ミリ秒）\n",
        "\n",
        "        extracted_audio = audio[start_time:]\n",
        "\n",
        "        extracted_audio.export(\"/content/drive/MyDrive/TOEIC/idiom/\"+str(current).zfill(3)+\"-cutted.mp3\", format=\"mp3\") \n",
        "\n",
        "    if current in (72, 80, 88, 130):\n",
        "        audio = AudioSegment.from_file(\"/content/drive/MyDrive/TOEIC/idiom/\"+str(current).zfill(3)+\".mp3\", format=\"mp3\")\n",
        "        start_time = 1700  # 開始時間（ミリ秒）\n",
        "\n",
        "        extracted_audio = audio[start_time:]\n",
        "\n",
        "        extracted_audio.export(\"/content/drive/MyDrive/TOEIC/idiom/\"+str(current).zfill(3)+\"-cutted.mp3\", format=\"mp3\") \n",
        "    if current in (98, 106, 114, 122):\n",
        "        audio = AudioSegment.from_file(\"/content/drive/MyDrive/TOEIC/idiom/\"+str(current).zfill(3)+\".mp3\", format=\"mp3\")\n",
        "        start_time = 1870  # 開始時間（ミリ秒）\n",
        "\n",
        "        extracted_audio = audio[start_time:]\n",
        "\n",
        "        extracted_audio.export(\"/content/drive/MyDrive/TOEIC/idiom/\"+str(current).zfill(3)+\"-cutted.mp3\", format=\"mp3\") "
      ],
      "metadata": {
        "id": "7IBBYixAIUXn"
      },
      "execution_count": null,
      "outputs": []
    },
    {
      "cell_type": "code",
      "source": [
        "!rm /content/drive/MyDrive/TOEIC/idiom/*-cutted.mp3"
      ],
      "metadata": {
        "id": "HqbOiOZ2Fqct"
      },
      "execution_count": null,
      "outputs": []
    },
    {
      "cell_type": "markdown",
      "source": [
        "### 音声を空白で区切る（細切れにする）"
      ],
      "metadata": {
        "id": "rYoDFwv2ONzk"
      }
    },
    {
      "cell_type": "code",
      "source": [
        "from pydub import AudioSegment\n",
        "from pydub.silence import split_on_silence\n",
        "\n",
        "numbering = 1\n",
        "for current in range(1, 140):\n",
        "    audio_path = \"/content/drive/MyDrive/TOEIC/idiom/\" + str(current).zfill(3) + \".mp3\"\n",
        "    sound = AudioSegment.from_file(audio_path, format=\"mp3\")\n",
        "\n",
        "    # 会話表現のところはすくしだけ無音の期間を長くとることで誤った分割を防ぐ\n",
        "    chunks = split_on_silence(\n",
        "        sound,\n",
        "\n",
        "        # 2000ms以上の無音がある箇所で分割\n",
        "        min_silence_len=2000,\n",
        "\n",
        "        # -30dBFS以下で無音とみなす\n",
        "        silence_thresh=-30, \n",
        "\n",
        "        # 分割後500msだけ、無音を残す\n",
        "        keep_silence=500\n",
        "    )\n",
        "\n",
        "    # 分割数の表示\n",
        "    print(len(chunks))\n",
        "    for i, chunk in enumerate(chunks):\n",
        "        chunk.export(u\"/content/drive/MyDrive/TOEIC/idioms/\"+str(numbering).zfill(4)+\".mp3\", format=\"mp3\")     \n",
        "        numbering += 1   \n",
        "    "
      ],
      "metadata": {
        "id": "thCqpCjuOd6r"
      },
      "execution_count": null,
      "outputs": []
    },
    {
      "cell_type": "code",
      "source": [
        "!rm -f drive/MyDrive/TOEIC/idioms/*"
      ],
      "metadata": {
        "id": "2hxGwC9GVRO-"
      },
      "execution_count": null,
      "outputs": []
    },
    {
      "cell_type": "markdown",
      "source": [
        "## 音声のパスを作成しておく"
      ],
      "metadata": {
        "id": "yaN9_Up9J87Z"
      }
    },
    {
      "cell_type": "code",
      "source": [
        "with open(\"/content/drive/MyDrive/TOEIC/sound_path.txt\", \"a\") as f:\n",
        "    for i in range(1, 1001):\n",
        "        f.write(\"[sound:idioms\\\\\"+str(i).zfill(4)+\".mp3]\\n\")"
      ],
      "metadata": {
        "id": "b1YDOI4KKCo-"
      },
      "execution_count": null,
      "outputs": []
    },
    {
      "cell_type": "markdown",
      "source": [
        "## 英語音声から文字起こしをする"
      ],
      "metadata": {
        "id": "eVdg_tN3DCXu"
      }
    },
    {
      "cell_type": "code",
      "execution_count": null,
      "metadata": {
        "id": "26-D1f1X3M3O"
      },
      "outputs": [],
      "source": [
        "!pip install git+https://github.com/openai/whisper.git"
      ]
    },
    {
      "cell_type": "code",
      "source": [
        "import whisper\n",
        "\n",
        "# モデルを作成\n",
        "model = whisper.load_model(\"large\")"
      ],
      "metadata": {
        "id": "ontS4xkg4g8M"
      },
      "execution_count": null,
      "outputs": []
    },
    {
      "cell_type": "code",
      "source": [
        "import glob\n",
        "from natsort import natsorted\n",
        "\n",
        "# フォルダ内のすべての音声ファイルのパスを生成\n",
        "allfilename = glob.glob(\"/content/drive/MyDrive/TOEIC/idioms/*\")\n",
        "ordered_file = natsorted(allfilename)\n",
        "for file in ordered_file:\n",
        "  print(file)\n",
        "  result = model.transcribe(file)\n",
        "  text = result[\"text\"]\n",
        "  print(text)\n",
        "  with open(\"/content/drive/MyDrive/TOEIC/idioms_english.txt\", \"a\") as txtfile:\n",
        "    txtfile.write(text+\"\\n\")\n",
        "print(\"finish\")"
      ],
      "metadata": {
        "id": "g9Pr64H-7RUx"
      },
      "execution_count": null,
      "outputs": []
    },
    {
      "cell_type": "markdown",
      "source": [
        "## 英語テキストを日本語に翻訳する"
      ],
      "metadata": {
        "id": "lQMFibcmDJaq"
      }
    },
    {
      "cell_type": "code",
      "source": [
        "!pip install googletrans==3.1.0a0"
      ],
      "metadata": {
        "id": "a9I6YEDoJ2G4"
      },
      "execution_count": null,
      "outputs": []
    },
    {
      "cell_type": "code",
      "source": [
        "from googletrans import Translator\n",
        "\n",
        "with open('/content/drive/MyDrive/TOEIC/idioms_english.txt') as f:\n",
        "    lines = f.readlines()\n",
        " \n",
        "    translator = Translator()\n",
        "    for line in lines:\n",
        "        translated = translator.translate(line, src=\"en\", dest=\"ja\")\n",
        "        print(line)  # 翻訳したい文章\n",
        "        text = translated.text\n",
        "        with open(\"/content/drive/MyDrive/TOEIC/idioms_japanese.txt\", \"a\") as ja_f:\n",
        "          ja_f.write(text+\"\\n\")\n",
        "        print(text)  # 翻訳後の文章\n"
      ],
      "metadata": {
        "id": "L_r0LJBhDPX8"
      },
      "execution_count": null,
      "outputs": []
    },
    {
      "cell_type": "markdown",
      "source": [
        "## csvファイルを作成する"
      ],
      "metadata": {
        "id": "sNSsfT0ic3b5"
      }
    },
    {
      "cell_type": "code",
      "source": [
        "en = open(\"/content/drive/MyDrive/TOEIC/TOEIC L&R TEST 必ず☆でる熟語スピードマスター/idioms_english.txt\")\n",
        "jp = open(\"/content/drive/MyDrive/TOEIC/TOEIC L&R TEST 必ず☆でる熟語スピードマスター/idioms_japanese.txt\")\n",
        "sound = open(\"/content/drive/MyDrive/TOEIC/TOEIC L&R TEST 必ず☆でる熟語スピードマスター/sound_path.txt\")\n",
        "\n",
        "en_sentence = [s.rstrip() for s in en.readlines()]\n",
        "jp_sentence = [s.rstrip() for s in jp.readlines()]\n",
        "sound_sentence = [s.rstrip() for s in sound.readlines()]\n",
        "\n",
        "with open(\"/content/drive/MyDrive/TOEIC/TOEIC L&R TEST 必ず☆でる熟語スピードマスター/result.csv\", \"w\") as f:\n",
        "    f.write(\"new_sentence, meaning, memo, page, tag\\n\")\n",
        "    for i, (e, j, s) in enumerate(zip(en_sentence, jp_sentence, sound_sentence)):\n",
        "        new_sentence = f'\"{s}\\n{e}\",'\n",
        "        meaning = f'\"{j}\",'\n",
        "        memo = f'\"\",'\n",
        "        page = str(i).zfill(4) + \",\"\n",
        "        tag = '\"L&R_TEST TOEIC 必ず☆でる熟語スピードマスター\"'\n",
        "        text = new_sentence + meaning + memo + page + tag \n",
        "        f.write(text+\"\\n\")\n",
        "\n",
        "sound.close()\n",
        "en.close()\n",
        "jp.close()"
      ],
      "metadata": {
        "id": "kCMbhi4Zc1y-"
      },
      "execution_count": null,
      "outputs": []
    }
  ]
}